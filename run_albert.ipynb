{
 "cells": [
  {
   "cell_type": "code",
   "execution_count": 1,
   "metadata": {
    "scrolled": true
   },
   "outputs": [
    {
     "name": "stdout",
     "output_type": "stream",
     "text": [
      "cuda:0\n"
     ]
    }
   ],
   "source": [
    "import utils\n",
    "import config\n",
    "import logging\n",
    "import numpy as np\n",
    "from data_process import Processor\n",
    "from data_loader import NERDataset\n",
    "from model_small import BertNER\n",
    "from train import train, evaluate\n",
    "from transformers import (\n",
    "  BertTokenizerFast,\n",
    ")\n",
    "from sklearn.model_selection import train_test_split\n",
    "from torch.utils.data import DataLoader\n",
    "from transformers.optimization import get_cosine_schedule_with_warmup, AdamW\n",
    "\n",
    "import warnings\n",
    "import torch\n",
    "import os\n",
    "warnings.filterwarnings('ignore')\n",
    "import pickle\n",
    "\n",
    "\n",
    "def dev_split(dataset_dir):\n",
    "    \"\"\"split dev set\"\"\"\n",
    "    data = np.load(dataset_dir, allow_pickle=True)\n",
    "    words = data[\"words\"]\n",
    "    labels = data[\"labels\"]\n",
    "    x_train, x_dev, y_train, y_dev = train_test_split(words, labels, test_size=config.dev_split_size, random_state=0)\n",
    "    return x_train, x_dev, y_train, y_dev\n",
    "\n",
    "\n",
    "def load_dev(mode):\n",
    "    if mode == 'train':\n",
    "        # 分离出验证集\n",
    "        word_train, word_dev, label_train, label_dev = dev_split(config.train_dir)\n",
    "    elif mode == 'test':\n",
    "        train_data = np.load(config.train_dir, allow_pickle=True)\n",
    "        dev_data = np.load(config.test_dir, allow_pickle=True)\n",
    "        word_train = train_data[\"words\"]\n",
    "        label_train = train_data[\"labels\"]\n",
    "        word_dev = dev_data[\"words\"]\n",
    "        label_dev = dev_data[\"labels\"]\n",
    "    elif mode == 'predict':\n",
    "        train_data = np.load(config.train_dir, allow_pickle=True)\n",
    "        predict_data = np.load(config.predict_dir, allow_pickle=True)\n",
    "        word_train = train_data[\"words\"]\n",
    "        label_train = train_data[\"labels\"]\n",
    "        word_dev = predict_data[\"words\"]\n",
    "        label_dev = predict_data[\"labels\"]\n",
    "    else:\n",
    "        word_train = None\n",
    "        label_train = None\n",
    "        word_dev = None\n",
    "        label_dev = None\n",
    "    return word_train, word_dev, label_train, label_dev\n",
    "\n",
    "def run(check_model_dir = ''):\n",
    "    # check_model_dir = '/data/fuwen/SuWen/news_get_name_ner/src/experiments/s_model/bs64 5 90.6/'\n",
    "    filename = config.model_dir\n",
    "    if not os.path.exists(filename):               #判断文件夹是否存在\n",
    "        os.makedirs(filename)                       #新建文件夹\n",
    "    device = config.device\n",
    "    \"\"\"train the model\"\"\"\n",
    "    # set the logger\n",
    "    utils.set_logger(config.log_dir)\n",
    "    logging.info(\"device: {}\".format(device))\n",
    "    batch_size=config.batch_size\n",
    "    logging.info(\"batch_size: {}\".format(batch_size))\n",
    "    try:\n",
    "        with open(filename+\"train_loader\"+str(batch_size)+\".pkl\",'rb') as f:\n",
    "            train_loader  = pickle.loads(f.read())\n",
    "        with open(filename+\"dev_loader\"+str(batch_size)+\".pkl\",'rb') as f:\n",
    "            dev_loader  = pickle.loads(f.read())\n",
    "        logging.info(\"--------Get Dataloader!--------\")\n",
    "        train_size = 43092 # 这个数据由第一遍训练输出的大小来填，输出格式如下：\n",
    "        # --------Dataset Build!--------\n",
    "        #             43092\n",
    "        # --------Get Dataloader!--------\n",
    "\n",
    "    except:\n",
    "        try:\n",
    "            with open(filename+\"train_dataset.pkl\",'rb') as f:\n",
    "                train_dataset  = pickle.loads(f.read())\n",
    "            with open(filename+\"dev_dataset.pkl\",'rb') as f:\n",
    "                dev_dataset  = pickle.loads(f.read())\n",
    "            \n",
    "            logging.info(\"--------Dataset Build!--------\")\n",
    "\n",
    "        except:\n",
    "            # 处理数据，分离文本和标签\n",
    "            processor = Processor(config)\n",
    "            processor.process()\n",
    "            logging.info(\"--------Process Done!--------\")\n",
    "            # 分离出验证集\n",
    "            word_train, word_dev, label_train, label_dev = load_dev('train')\n",
    "            logging.info(\"--------load_dev !--------\")\n",
    "            # build dataset\n",
    "            tokenizer = BertTokenizerFast.from_pretrained('bert-base-chinese')\n",
    "            train_dataset = NERDataset(word_train, label_train, config, tokenizer)\n",
    "            dev_dataset = NERDataset(word_dev, label_dev, config, tokenizer)\n",
    "            with open(filename+'train_dataset.pkl', 'wb') as f:\n",
    "                pickle.dump(train_dataset, f)\n",
    "            with open(filename+'dev_dataset.pkl', 'wb') as f:\n",
    "                pickle.dump(dev_dataset, f)\n",
    "            logging.info(\"--------Dataset Build!--------\")\n",
    "            \n",
    "        # get dataset size\n",
    "        train_size = len(train_dataset)\n",
    "        print(train_size)\n",
    "        # build data_loader\n",
    "        train_loader = DataLoader(train_dataset, batch_size=config.batch_size,\n",
    "                                    shuffle=True, collate_fn=train_dataset.collate_fn)\n",
    "        dev_loader = DataLoader(dev_dataset, batch_size=config.batch_size,\n",
    "                                shuffle=True, collate_fn=dev_dataset.collate_fn)\n",
    "        with open(filename+'train_loader'+str(batch_size)+'.pkl', 'wb') as f:\n",
    "                pickle.dump(train_loader, f)\n",
    "        with open(filename+'dev_loader'+str(batch_size)+'.pkl', 'wb') as f:\n",
    "            pickle.dump(dev_loader, f)\n",
    "        logging.info(\"--------Get Dataloader!--------\")\n",
    "\n",
    "\n",
    "    # Prepare model\n",
    "    if check_model_dir!='':\n",
    "        model = BertNER.from_pretrained(check_model_dir)\n",
    "        logging.info(\"--------Load model from {}--------\".format(check_model_dir))\n",
    "    else:\n",
    "        model = BertNER.from_pretrained('ckiplab/albert-tiny-chinese',num_labels=len(config.label2id))\n",
    "        logging.info(\"--------Create model from {}--------\".format('ckiplab/albert-tiny-chinese'))\n",
    "\n",
    "    model.to(device)\n",
    "    # train_loader.to(device)\n",
    "    # dev_loader.to(device)\n",
    "    # Prepare optimizer\n",
    "    if config.full_fine_tuning:\n",
    "        # model.named_parameters(): [bert, bilstm, classifier, crf]\n",
    "        bert_optimizer = list(model.bert.named_parameters())\n",
    "        # lstm_optimizer = list(model.bilstm.named_parameters())\n",
    "        classifier_optimizer = list(model.classifier.named_parameters())\n",
    "        no_decay = ['bias', 'LayerNorm.bias', 'LayerNorm.weight']\n",
    "        optimizer_grouped_parameters = [\n",
    "            {'params': [p for n, p in bert_optimizer if not any(nd in n for nd in no_decay)],\n",
    "                'weight_decay': config.weight_decay},\n",
    "            {'params': [p for n, p in bert_optimizer if any(nd in n for nd in no_decay)],\n",
    "                'weight_decay': 0.0},\n",
    "            # {'params': [p for n, p in lstm_optimizer if not any(nd in n for nd in no_decay)],\n",
    "                # 'lr': config.learning_rate * 20, 'weight_decay': config.weight_decay},\n",
    "            # {'params': [p for n, p in lstm_optimizer if any(nd in n for nd in no_decay)],\n",
    "                # 'lr': config.learning_rate * 20, 'weight_decay': 0.0},\n",
    "            {'params': [p for n, p in classifier_optimizer if not any(nd in n for nd in no_decay)],\n",
    "                'lr': config.learning_rate * 20, 'weight_decay': config.weight_decay},\n",
    "            {'params': [p for n, p in classifier_optimizer if any(nd in n for nd in no_decay)],\n",
    "                'lr': config.learning_rate * 20, 'weight_decay': 0.0},\n",
    "            {'params': model.crf.parameters(), 'lr': config.learning_rate * 20}\n",
    "        ]\n",
    "    # only fine-tune the head classifier\n",
    "    else:\n",
    "        param_optimizer = list(model.classifier.named_parameters())\n",
    "        optimizer_grouped_parameters = [{'params': [p for n, p in param_optimizer]}]\n",
    "    optimizer = AdamW(optimizer_grouped_parameters, lr=config.learning_rate, correct_bias=False)\n",
    "    \n",
    "    train_steps_per_epoch = train_size // config.batch_size\n",
    "    scheduler = get_cosine_schedule_with_warmup(optimizer,\n",
    "                                                num_warmup_steps=(config.epoch_num // 10) * train_steps_per_epoch,\n",
    "                                                num_training_steps=config.epoch_num * train_steps_per_epoch)\n",
    "\n",
    "    # Train the model\n",
    "    logging.info(\"--------Start Training!--------\")\n",
    "    train(train_loader, dev_loader, model, optimizer, scheduler, config.model_dir)\n",
    "\n"
   ]
  },
  {
   "cell_type": "code",
   "execution_count": 2,
   "metadata": {},
   "outputs": [
    {
     "name": "stderr",
     "output_type": "stream",
     "text": [
      "device: cuda:0\n",
      "batch_size: 128\n",
      "  7%|▋         | 3549/48820 [00:03<00:46, 970.68it/s]"
     ]
    },
    {
     "name": "stdout",
     "output_type": "stream",
     "text": [
      "bad token：【 　 】\n"
     ]
    },
    {
     "name": "stderr",
     "output_type": "stream",
     "text": [
      " 19%|█▉        | 9315/48820 [00:10<00:45, 868.90it/s] "
     ]
    },
    {
     "name": "stdout",
     "output_type": "stream",
     "text": [
      "bad token：【 ﻿ 】\n"
     ]
    },
    {
     "name": "stderr",
     "output_type": "stream",
     "text": [
      " 21%|██        | 10023/48820 [00:10<00:39, 976.51it/s]"
     ]
    },
    {
     "name": "stdout",
     "output_type": "stream",
     "text": [
      "bad token：【 　 】\n"
     ]
    },
    {
     "name": "stderr",
     "output_type": "stream",
     "text": [
      " 36%|███▌      | 17335/48820 [00:18<00:31, 1002.65it/s]"
     ]
    },
    {
     "name": "stdout",
     "output_type": "stream",
     "text": [
      "bad token：【 　 】\n"
     ]
    },
    {
     "name": "stderr",
     "output_type": "stream",
     "text": [
      " 62%|██████▏   | 30239/48820 [00:32<00:19, 938.80it/s] "
     ]
    },
    {
     "name": "stdout",
     "output_type": "stream",
     "text": [
      "bad token：【 　 】\n"
     ]
    },
    {
     "name": "stderr",
     "output_type": "stream",
     "text": [
      " 63%|██████▎   | 30518/48820 [00:32<00:20, 905.23it/s]"
     ]
    },
    {
     "name": "stdout",
     "output_type": "stream",
     "text": [
      "bad token：【 　 】\n"
     ]
    },
    {
     "name": "stderr",
     "output_type": "stream",
     "text": [
      " 65%|██████▌   | 31878/48820 [00:34<00:19, 882.12it/s]"
     ]
    },
    {
     "name": "stdout",
     "output_type": "stream",
     "text": [
      "bad token：【 　 】\n"
     ]
    },
    {
     "name": "stderr",
     "output_type": "stream",
     "text": [
      " 76%|███████▋  | 37278/48820 [00:40<00:12, 906.34it/s] "
     ]
    },
    {
     "name": "stdout",
     "output_type": "stream",
     "text": [
      "bad token：【 　 】\n"
     ]
    },
    {
     "name": "stderr",
     "output_type": "stream",
     "text": [
      " 79%|███████▊  | 38366/48820 [00:41<00:12, 867.63it/s]"
     ]
    },
    {
     "name": "stdout",
     "output_type": "stream",
     "text": [
      "bad token：【 \t 】\n",
      "bad token：【 \t 】\n",
      "bad token：【 \t 】\n"
     ]
    },
    {
     "name": "stderr",
     "output_type": "stream",
     "text": [
      " 88%|████████▊ | 42993/48820 [00:46<00:05, 972.85it/s] "
     ]
    },
    {
     "name": "stdout",
     "output_type": "stream",
     "text": [
      "bad token：【 　 】\n",
      "bad token：【 \t 】\n",
      "bad token：【 　 】\n",
      "bad token：【 　 】\n"
     ]
    },
    {
     "name": "stderr",
     "output_type": "stream",
     "text": [
      " 97%|█████████▋| 47449/48820 [00:51<00:01, 941.35it/s]"
     ]
    },
    {
     "name": "stdout",
     "output_type": "stream",
     "text": [
      "bad token：【 　 】\n"
     ]
    },
    {
     "name": "stderr",
     "output_type": "stream",
     "text": [
      "100%|██████████| 48820/48820 [00:52<00:00, 924.54it/s]\n",
      "--------train data process DONE!--------\n",
      "--------Process Done!--------\n",
      "--------load_dev !--------\n",
      "100%|██████████| 43092/43092 [00:48<00:00, 896.24it/s]\n",
      "100%|██████████| 4789/4789 [00:05<00:00, 910.15it/s]\n",
      "--------Dataset Build!--------\n"
     ]
    },
    {
     "name": "stdout",
     "output_type": "stream",
     "text": [
      "43092\n"
     ]
    },
    {
     "name": "stderr",
     "output_type": "stream",
     "text": [
      "--------Get Dataloader!--------\n",
      "You are using a model of type albert to instantiate a model of type bert. This is not supported for all configurations of models and can yield errors.\n",
      "Some weights of the model checkpoint at ckiplab/albert-tiny-chinese were not used when initializing AlbertModel: ['predictions.dense.weight', 'predictions.dense.bias', 'predictions.LayerNorm.bias', 'predictions.decoder.bias', 'predictions.decoder.weight', 'predictions.bias', 'predictions.LayerNorm.weight']\n",
      "- This IS expected if you are initializing AlbertModel from the checkpoint of a model trained on another task or with another architecture (e.g. initializing a BertForSequenceClassification model from a BertForPreTraining model).\n",
      "- This IS NOT expected if you are initializing AlbertModel from the checkpoint of a model that you expect to be exactly identical (initializing a BertForSequenceClassification model from a BertForSequenceClassification model).\n",
      "Some weights of AlbertModel were not initialized from the model checkpoint at ckiplab/albert-tiny-chinese and are newly initialized: ['albert.pooler.weight', 'albert.pooler.bias']\n",
      "You should probably TRAIN this model on a down-stream task to be able to use it for predictions and inference.\n",
      "Some weights of the model checkpoint at ckiplab/albert-tiny-chinese were not used when initializing BertNER: ['albert.embeddings.token_type_embeddings.weight', 'albert.embeddings.word_embeddings.weight', 'albert.embeddings.LayerNorm.weight', 'albert.encoder.albert_layer_groups.0.albert_layers.0.attention.value.weight', 'albert.embeddings.position_embeddings.weight', 'albert.embeddings.position_ids', 'albert.encoder.albert_layer_groups.0.albert_layers.0.attention.value.bias', 'predictions.LayerNorm.weight', 'albert.encoder.albert_layer_groups.0.albert_layers.0.ffn_output.bias', 'albert.encoder.albert_layer_groups.0.albert_layers.0.attention.LayerNorm.weight', 'albert.encoder.albert_layer_groups.0.albert_layers.0.ffn.bias', 'albert.encoder.albert_layer_groups.0.albert_layers.0.full_layer_layer_norm.bias', 'albert.encoder.albert_layer_groups.0.albert_layers.0.attention.query.bias', 'predictions.dense.weight', 'albert.encoder.albert_layer_groups.0.albert_layers.0.attention.key.bias', 'predictions.dense.bias', 'albert.encoder.embedding_hidden_mapping_in.bias', 'albert.encoder.albert_layer_groups.0.albert_layers.0.attention.LayerNorm.bias', 'albert.encoder.albert_layer_groups.0.albert_layers.0.attention.query.weight', 'predictions.LayerNorm.bias', 'albert.encoder.albert_layer_groups.0.albert_layers.0.ffn.weight', 'predictions.decoder.bias', 'albert.encoder.albert_layer_groups.0.albert_layers.0.full_layer_layer_norm.weight', 'albert.encoder.embedding_hidden_mapping_in.weight', 'albert.encoder.albert_layer_groups.0.albert_layers.0.attention.dense.bias', 'albert.encoder.albert_layer_groups.0.albert_layers.0.attention.dense.weight', 'albert.encoder.albert_layer_groups.0.albert_layers.0.attention.key.weight', 'albert.embeddings.LayerNorm.bias', 'albert.encoder.albert_layer_groups.0.albert_layers.0.ffn_output.weight', 'predictions.decoder.weight', 'predictions.bias']\n",
      "- This IS expected if you are initializing BertNER from the checkpoint of a model trained on another task or with another architecture (e.g. initializing a BertForSequenceClassification model from a BertForPreTraining model).\n",
      "- This IS NOT expected if you are initializing BertNER from the checkpoint of a model that you expect to be exactly identical (initializing a BertForSequenceClassification model from a BertForSequenceClassification model).\n",
      "Some weights of BertNER were not initialized from the model checkpoint at ckiplab/albert-tiny-chinese and are newly initialized: ['encoder.albert_layer_groups.0.albert_layers.0.attention.dense.bias', 'classifier.weight', 'encoder.albert_layer_groups.0.albert_layers.0.attention.value.bias', 'pooler.bias', 'encoder.embedding_hidden_mapping_in.bias', 'encoder.albert_layer_groups.0.albert_layers.0.attention.dense.weight', 'encoder.albert_layer_groups.0.albert_layers.0.attention.value.weight', 'encoder.albert_layer_groups.0.albert_layers.0.full_layer_layer_norm.bias', 'encoder.albert_layer_groups.0.albert_layers.0.ffn.weight', 'embeddings.position_embeddings.weight', 'encoder.albert_layer_groups.0.albert_layers.0.attention.key.weight', 'embeddings.LayerNorm.weight', 'encoder.albert_layer_groups.0.albert_layers.0.ffn.bias', 'encoder.embedding_hidden_mapping_in.weight', 'crf.transitions', 'encoder.albert_layer_groups.0.albert_layers.0.attention.query.weight', 'crf.end_transitions', 'encoder.albert_layer_groups.0.albert_layers.0.ffn_output.weight', 'encoder.albert_layer_groups.0.albert_layers.0.ffn_output.bias', 'classifier.bias', 'crf.start_transitions', 'encoder.albert_layer_groups.0.albert_layers.0.attention.LayerNorm.weight', 'encoder.albert_layer_groups.0.albert_layers.0.attention.query.bias', 'encoder.albert_layer_groups.0.albert_layers.0.attention.LayerNorm.bias', 'embeddings.token_type_embeddings.weight', 'encoder.albert_layer_groups.0.albert_layers.0.full_layer_layer_norm.weight', 'embeddings.word_embeddings.weight', 'encoder.albert_layer_groups.0.albert_layers.0.attention.key.bias', 'embeddings.LayerNorm.bias', 'pooler.weight']\n",
      "You should probably TRAIN this model on a down-stream task to be able to use it for predictions and inference.\n",
      "--------Create model from ckiplab/albert-tiny-chinese--------\n",
      "--------Start Training!--------\n",
      "100%|██████████| 337/337 [00:59<00:00,  5.71it/s]\n",
      "Epoch: 1, train loss: 1722.9702144815235\n"
     ]
    },
    {
     "name": "stdout",
     "output_type": "stream",
     "text": [
      "error: 0\n"
     ]
    },
    {
     "name": "stderr",
     "output_type": "stream",
     "text": [
      "100%|██████████| 38/38 [00:10<00:00,  3.60it/s]\n",
      "Epoch: 1, dev loss: 1009.946199115954, f1 score: 0.30032864245386365\n",
      "--------Save best model!--------\n",
      " 91%|█████████ | 306/337 [00:57<00:05,  5.29it/s]\n"
     ]
    },
    {
     "ename": "RuntimeError",
     "evalue": "CUDA out of memory. Tried to allocate 394.00 MiB (GPU 0; 6.00 GiB total capacity; 4.45 GiB already allocated; 0 bytes free; 5.21 GiB reserved in total by PyTorch) If reserved memory is >> allocated memory try setting max_split_size_mb to avoid fragmentation.  See documentation for Memory Management and PYTORCH_CUDA_ALLOC_CONF",
     "output_type": "error",
     "traceback": [
      "\u001b[1;31m---------------------------------------------------------------------------\u001b[0m",
      "\u001b[1;31mRuntimeError\u001b[0m                              Traceback (most recent call last)",
      "\u001b[1;32m~\\AppData\\Local\\Temp\\ipykernel_18444\\766504495.py\u001b[0m in \u001b[0;36m<module>\u001b[1;34m\u001b[0m\n\u001b[1;32m----> 1\u001b[1;33m \u001b[0mrun\u001b[0m\u001b[1;33m(\u001b[0m\u001b[1;33m)\u001b[0m\u001b[1;33m\u001b[0m\u001b[1;33m\u001b[0m\u001b[0m\n\u001b[0m",
      "\u001b[1;32m~\\AppData\\Local\\Temp\\ipykernel_18444\\590542301.py\u001b[0m in \u001b[0;36mrun\u001b[1;34m(check_model_dir)\u001b[0m\n\u001b[0;32m    163\u001b[0m     \u001b[1;31m# Train the model\u001b[0m\u001b[1;33m\u001b[0m\u001b[1;33m\u001b[0m\u001b[1;33m\u001b[0m\u001b[0m\n\u001b[0;32m    164\u001b[0m     \u001b[0mlogging\u001b[0m\u001b[1;33m.\u001b[0m\u001b[0minfo\u001b[0m\u001b[1;33m(\u001b[0m\u001b[1;34m\"--------Start Training!--------\"\u001b[0m\u001b[1;33m)\u001b[0m\u001b[1;33m\u001b[0m\u001b[1;33m\u001b[0m\u001b[0m\n\u001b[1;32m--> 165\u001b[1;33m     \u001b[0mtrain\u001b[0m\u001b[1;33m(\u001b[0m\u001b[0mtrain_loader\u001b[0m\u001b[1;33m,\u001b[0m \u001b[0mdev_loader\u001b[0m\u001b[1;33m,\u001b[0m \u001b[0mmodel\u001b[0m\u001b[1;33m,\u001b[0m \u001b[0moptimizer\u001b[0m\u001b[1;33m,\u001b[0m \u001b[0mscheduler\u001b[0m\u001b[1;33m,\u001b[0m \u001b[0mconfig\u001b[0m\u001b[1;33m.\u001b[0m\u001b[0mmodel_dir\u001b[0m\u001b[1;33m)\u001b[0m\u001b[1;33m\u001b[0m\u001b[1;33m\u001b[0m\u001b[0m\n\u001b[0m\u001b[0;32m    166\u001b[0m \u001b[1;33m\u001b[0m\u001b[0m\n",
      "\u001b[1;32me:\\Learn\\Work\\SW\\train_any_ner\\train.py\u001b[0m in \u001b[0;36mtrain\u001b[1;34m(train_loader, dev_loader, model, optimizer, scheduler, model_dir)\u001b[0m\n\u001b[0;32m     62\u001b[0m     \u001b[1;32mfor\u001b[0m \u001b[0mepoch\u001b[0m \u001b[1;32min\u001b[0m \u001b[0mrange\u001b[0m\u001b[1;33m(\u001b[0m\u001b[1;36m1\u001b[0m\u001b[1;33m,\u001b[0m \u001b[0mconfig\u001b[0m\u001b[1;33m.\u001b[0m\u001b[0mepoch_num\u001b[0m \u001b[1;33m+\u001b[0m \u001b[1;36m1\u001b[0m\u001b[1;33m)\u001b[0m\u001b[1;33m:\u001b[0m\u001b[1;33m\u001b[0m\u001b[1;33m\u001b[0m\u001b[0m\n\u001b[0;32m     63\u001b[0m \u001b[1;31m#         try:\u001b[0m\u001b[1;33m\u001b[0m\u001b[1;33m\u001b[0m\u001b[1;33m\u001b[0m\u001b[0m\n\u001b[1;32m---> 64\u001b[1;33m         \u001b[0mtrain_epoch\u001b[0m\u001b[1;33m(\u001b[0m\u001b[0mtrain_loader\u001b[0m\u001b[1;33m,\u001b[0m \u001b[0mmodel\u001b[0m\u001b[1;33m,\u001b[0m \u001b[0moptimizer\u001b[0m\u001b[1;33m,\u001b[0m \u001b[0mscheduler\u001b[0m\u001b[1;33m,\u001b[0m \u001b[0mepoch\u001b[0m\u001b[1;33m)\u001b[0m\u001b[1;33m\u001b[0m\u001b[1;33m\u001b[0m\u001b[0m\n\u001b[0m\u001b[0;32m     65\u001b[0m \u001b[1;31m#         except:\u001b[0m\u001b[1;33m\u001b[0m\u001b[1;33m\u001b[0m\u001b[1;33m\u001b[0m\u001b[0m\n\u001b[0;32m     66\u001b[0m \u001b[1;31m#             print('epoch error')\u001b[0m\u001b[1;33m\u001b[0m\u001b[1;33m\u001b[0m\u001b[1;33m\u001b[0m\u001b[0m\n",
      "\u001b[1;32me:\\Learn\\Work\\SW\\train_any_ner\\train.py\u001b[0m in \u001b[0;36mtrain_epoch\u001b[1;34m(train_loader, model, optimizer, scheduler, epoch)\u001b[0m\n\u001b[0;32m     36\u001b[0m         \u001b[0mtrain_losses\u001b[0m \u001b[1;33m+=\u001b[0m \u001b[0mloss\u001b[0m\u001b[1;33m.\u001b[0m\u001b[0mitem\u001b[0m\u001b[1;33m(\u001b[0m\u001b[1;33m)\u001b[0m\u001b[1;33m\u001b[0m\u001b[1;33m\u001b[0m\u001b[0m\n\u001b[0;32m     37\u001b[0m         \u001b[1;31m# clear previous gradients, compute gradients of all variables wrt loss\u001b[0m\u001b[1;33m\u001b[0m\u001b[1;33m\u001b[0m\u001b[1;33m\u001b[0m\u001b[0m\n\u001b[1;32m---> 38\u001b[1;33m         \u001b[0mloss\u001b[0m\u001b[1;33m.\u001b[0m\u001b[0mbackward\u001b[0m\u001b[1;33m(\u001b[0m\u001b[1;33m)\u001b[0m\u001b[1;33m\u001b[0m\u001b[1;33m\u001b[0m\u001b[0m\n\u001b[0m\u001b[0;32m     39\u001b[0m         \u001b[1;31m# gradient clipping\u001b[0m\u001b[1;33m\u001b[0m\u001b[1;33m\u001b[0m\u001b[1;33m\u001b[0m\u001b[0m\n\u001b[0;32m     40\u001b[0m         \u001b[0mnn\u001b[0m\u001b[1;33m.\u001b[0m\u001b[0mutils\u001b[0m\u001b[1;33m.\u001b[0m\u001b[0mclip_grad_norm_\u001b[0m\u001b[1;33m(\u001b[0m\u001b[0mparameters\u001b[0m\u001b[1;33m=\u001b[0m\u001b[0mmodel\u001b[0m\u001b[1;33m.\u001b[0m\u001b[0mparameters\u001b[0m\u001b[1;33m(\u001b[0m\u001b[1;33m)\u001b[0m\u001b[1;33m,\u001b[0m \u001b[0mmax_norm\u001b[0m\u001b[1;33m=\u001b[0m\u001b[0mconfig\u001b[0m\u001b[1;33m.\u001b[0m\u001b[0mclip_grad\u001b[0m\u001b[1;33m)\u001b[0m\u001b[1;33m\u001b[0m\u001b[1;33m\u001b[0m\u001b[0m\n",
      "\u001b[1;32md:\\App\\Codes\\conda\\envs\\py37\\lib\\site-packages\\torch\\_tensor.py\u001b[0m in \u001b[0;36mbackward\u001b[1;34m(self, gradient, retain_graph, create_graph, inputs)\u001b[0m\n\u001b[0;32m    361\u001b[0m                 \u001b[0mcreate_graph\u001b[0m\u001b[1;33m=\u001b[0m\u001b[0mcreate_graph\u001b[0m\u001b[1;33m,\u001b[0m\u001b[1;33m\u001b[0m\u001b[1;33m\u001b[0m\u001b[0m\n\u001b[0;32m    362\u001b[0m                 inputs=inputs)\n\u001b[1;32m--> 363\u001b[1;33m         \u001b[0mtorch\u001b[0m\u001b[1;33m.\u001b[0m\u001b[0mautograd\u001b[0m\u001b[1;33m.\u001b[0m\u001b[0mbackward\u001b[0m\u001b[1;33m(\u001b[0m\u001b[0mself\u001b[0m\u001b[1;33m,\u001b[0m \u001b[0mgradient\u001b[0m\u001b[1;33m,\u001b[0m \u001b[0mretain_graph\u001b[0m\u001b[1;33m,\u001b[0m \u001b[0mcreate_graph\u001b[0m\u001b[1;33m,\u001b[0m \u001b[0minputs\u001b[0m\u001b[1;33m=\u001b[0m\u001b[0minputs\u001b[0m\u001b[1;33m)\u001b[0m\u001b[1;33m\u001b[0m\u001b[1;33m\u001b[0m\u001b[0m\n\u001b[0m\u001b[0;32m    364\u001b[0m \u001b[1;33m\u001b[0m\u001b[0m\n\u001b[0;32m    365\u001b[0m     \u001b[1;32mdef\u001b[0m \u001b[0mregister_hook\u001b[0m\u001b[1;33m(\u001b[0m\u001b[0mself\u001b[0m\u001b[1;33m,\u001b[0m \u001b[0mhook\u001b[0m\u001b[1;33m)\u001b[0m\u001b[1;33m:\u001b[0m\u001b[1;33m\u001b[0m\u001b[1;33m\u001b[0m\u001b[0m\n",
      "\u001b[1;32md:\\App\\Codes\\conda\\envs\\py37\\lib\\site-packages\\torch\\autograd\\__init__.py\u001b[0m in \u001b[0;36mbackward\u001b[1;34m(tensors, grad_tensors, retain_graph, create_graph, grad_variables, inputs)\u001b[0m\n\u001b[0;32m    173\u001b[0m     Variable._execution_engine.run_backward(  # Calls into the C++ engine to run the backward pass\n\u001b[0;32m    174\u001b[0m         \u001b[0mtensors\u001b[0m\u001b[1;33m,\u001b[0m \u001b[0mgrad_tensors_\u001b[0m\u001b[1;33m,\u001b[0m \u001b[0mretain_graph\u001b[0m\u001b[1;33m,\u001b[0m \u001b[0mcreate_graph\u001b[0m\u001b[1;33m,\u001b[0m \u001b[0minputs\u001b[0m\u001b[1;33m,\u001b[0m\u001b[1;33m\u001b[0m\u001b[1;33m\u001b[0m\u001b[0m\n\u001b[1;32m--> 175\u001b[1;33m         allow_unreachable=True, accumulate_grad=True)  # Calls into the C++ engine to run the backward pass\n\u001b[0m\u001b[0;32m    176\u001b[0m \u001b[1;33m\u001b[0m\u001b[0m\n\u001b[0;32m    177\u001b[0m def grad(\n",
      "\u001b[1;31mRuntimeError\u001b[0m: CUDA out of memory. Tried to allocate 394.00 MiB (GPU 0; 6.00 GiB total capacity; 4.45 GiB already allocated; 0 bytes free; 5.21 GiB reserved in total by PyTorch) If reserved memory is >> allocated memory try setting max_split_size_mb to avoid fragmentation.  See documentation for Memory Management and PYTORCH_CUDA_ALLOC_CONF"
     ]
    }
   ],
   "source": [
    "run()"
   ]
  },
  {
   "cell_type": "code",
   "execution_count": null,
   "metadata": {},
   "outputs": [],
   "source": []
  },
  {
   "cell_type": "code",
   "execution_count": null,
   "metadata": {},
   "outputs": [],
   "source": []
  },
  {
   "cell_type": "code",
   "execution_count": null,
   "metadata": {},
   "outputs": [],
   "source": []
  },
  {
   "cell_type": "code",
   "execution_count": null,
   "metadata": {},
   "outputs": [],
   "source": []
  }
 ],
 "metadata": {
  "kernelspec": {
   "display_name": "Python 3.7.12 ('py37')",
   "language": "python",
   "name": "python3"
  },
  "language_info": {
   "codemirror_mode": {
    "name": "ipython",
    "version": 3
   },
   "file_extension": ".py",
   "mimetype": "text/x-python",
   "name": "python",
   "nbconvert_exporter": "python",
   "pygments_lexer": "ipython3",
   "version": "3.7.12"
  },
  "vscode": {
   "interpreter": {
    "hash": "3d782eb80c6793658ece1c868de366382d6780e86e088d2fb13668bd1d900b34"
   }
  }
 },
 "nbformat": 4,
 "nbformat_minor": 2
}
